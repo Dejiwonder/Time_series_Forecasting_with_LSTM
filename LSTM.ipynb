{
 "cells": [
  {
   "cell_type": "code",
   "execution_count": 4,
   "id": "c1ed6d9a",
   "metadata": {},
   "outputs": [],
   "source": [
    "import pandas as pd\n",
    "import numpy as np\n",
    "import matplotlib.pyplot as plt"
   ]
  },
  {
   "cell_type": "code",
   "execution_count": 5,
   "id": "5150c636",
   "metadata": {},
   "outputs": [
    {
     "data": {
      "text/html": [
       "<div>\n",
       "<style scoped>\n",
       "    .dataframe tbody tr th:only-of-type {\n",
       "        vertical-align: middle;\n",
       "    }\n",
       "\n",
       "    .dataframe tbody tr th {\n",
       "        vertical-align: top;\n",
       "    }\n",
       "\n",
       "    .dataframe thead th {\n",
       "        text-align: right;\n",
       "    }\n",
       "</style>\n",
       "<table border=\"1\" class=\"dataframe\">\n",
       "  <thead>\n",
       "    <tr style=\"text-align: right;\">\n",
       "      <th></th>\n",
       "      <th>Time</th>\n",
       "      <th>WindSpeed</th>\n",
       "      <th>Power</th>\n",
       "    </tr>\n",
       "  </thead>\n",
       "  <tbody>\n",
       "    <tr>\n",
       "      <th>0</th>\n",
       "      <td>2014-10-07 02:00:00</td>\n",
       "      <td>7.567500</td>\n",
       "      <td>29.605953</td>\n",
       "    </tr>\n",
       "    <tr>\n",
       "      <th>1</th>\n",
       "      <td>2014-10-07 03:00:00</td>\n",
       "      <td>5.921667</td>\n",
       "      <td>12.383663</td>\n",
       "    </tr>\n",
       "    <tr>\n",
       "      <th>2</th>\n",
       "      <td>2014-10-07 04:00:00</td>\n",
       "      <td>6.256667</td>\n",
       "      <td>14.702530</td>\n",
       "    </tr>\n",
       "    <tr>\n",
       "      <th>3</th>\n",
       "      <td>2014-10-07 05:00:00</td>\n",
       "      <td>6.238333</td>\n",
       "      <td>15.391273</td>\n",
       "    </tr>\n",
       "    <tr>\n",
       "      <th>4</th>\n",
       "      <td>2014-10-07 06:00:00</td>\n",
       "      <td>6.951667</td>\n",
       "      <td>23.176807</td>\n",
       "    </tr>\n",
       "    <tr>\n",
       "      <th>...</th>\n",
       "      <td>...</td>\n",
       "      <td>...</td>\n",
       "      <td>...</td>\n",
       "    </tr>\n",
       "    <tr>\n",
       "      <th>95</th>\n",
       "      <td>2014-10-11 06:00:00</td>\n",
       "      <td>2.770000</td>\n",
       "      <td>0.081911</td>\n",
       "    </tr>\n",
       "    <tr>\n",
       "      <th>96</th>\n",
       "      <td>2014-10-11 08:00:00</td>\n",
       "      <td>3.795000</td>\n",
       "      <td>1.291635</td>\n",
       "    </tr>\n",
       "    <tr>\n",
       "      <th>97</th>\n",
       "      <td>2014-10-11 09:00:00</td>\n",
       "      <td>3.756667</td>\n",
       "      <td>0.978507</td>\n",
       "    </tr>\n",
       "    <tr>\n",
       "      <th>98</th>\n",
       "      <td>2014-10-11 10:00:00</td>\n",
       "      <td>3.943333</td>\n",
       "      <td>2.884690</td>\n",
       "    </tr>\n",
       "    <tr>\n",
       "      <th>99</th>\n",
       "      <td>2014-10-11 11:00:00</td>\n",
       "      <td>3.768333</td>\n",
       "      <td>2.071516</td>\n",
       "    </tr>\n",
       "  </tbody>\n",
       "</table>\n",
       "<p>100 rows × 3 columns</p>\n",
       "</div>"
      ],
      "text/plain": [
       "                   Time  WindSpeed      Power\n",
       "0   2014-10-07 02:00:00   7.567500  29.605953\n",
       "1   2014-10-07 03:00:00   5.921667  12.383663\n",
       "2   2014-10-07 04:00:00   6.256667  14.702530\n",
       "3   2014-10-07 05:00:00   6.238333  15.391273\n",
       "4   2014-10-07 06:00:00   6.951667  23.176807\n",
       "..                  ...        ...        ...\n",
       "95  2014-10-11 06:00:00   2.770000   0.081911\n",
       "96  2014-10-11 08:00:00   3.795000   1.291635\n",
       "97  2014-10-11 09:00:00   3.756667   0.978507\n",
       "98  2014-10-11 10:00:00   3.943333   2.884690\n",
       "99  2014-10-11 11:00:00   3.768333   2.071516\n",
       "\n",
       "[100 rows x 3 columns]"
      ]
     },
     "execution_count": 5,
     "metadata": {},
     "output_type": "execute_result"
    }
   ],
   "source": [
    "wind_data = pd.read_csv(\"C:/Users/Acer/Desktop/ML project/Time_series_Forecasting_with_LSTM/Wind_dataset.csv\")\n",
    "wind_data.head(100)\n"
   ]
  },
  {
   "cell_type": "code",
   "execution_count": 8,
   "id": "59d22ac7",
   "metadata": {},
   "outputs": [
    {
     "data": {
      "text/html": [
       "<div>\n",
       "<style scoped>\n",
       "    .dataframe tbody tr th:only-of-type {\n",
       "        vertical-align: middle;\n",
       "    }\n",
       "\n",
       "    .dataframe tbody tr th {\n",
       "        vertical-align: top;\n",
       "    }\n",
       "\n",
       "    .dataframe thead th {\n",
       "        text-align: right;\n",
       "    }\n",
       "</style>\n",
       "<table border=\"1\" class=\"dataframe\">\n",
       "  <thead>\n",
       "    <tr style=\"text-align: right;\">\n",
       "      <th></th>\n",
       "      <th>WindSpeed</th>\n",
       "      <th>Power</th>\n",
       "    </tr>\n",
       "  </thead>\n",
       "  <tbody>\n",
       "    <tr>\n",
       "      <th>count</th>\n",
       "      <td>7265.000000</td>\n",
       "      <td>7265.000000</td>\n",
       "    </tr>\n",
       "    <tr>\n",
       "      <th>mean</th>\n",
       "      <td>6.842653</td>\n",
       "      <td>30.722012</td>\n",
       "    </tr>\n",
       "    <tr>\n",
       "      <th>std</th>\n",
       "      <td>2.090319</td>\n",
       "      <td>26.140030</td>\n",
       "    </tr>\n",
       "    <tr>\n",
       "      <th>min</th>\n",
       "      <td>0.658333</td>\n",
       "      <td>-0.007123</td>\n",
       "    </tr>\n",
       "    <tr>\n",
       "      <th>25%</th>\n",
       "      <td>5.273333</td>\n",
       "      <td>9.461201</td>\n",
       "    </tr>\n",
       "    <tr>\n",
       "      <th>50%</th>\n",
       "      <td>6.668333</td>\n",
       "      <td>22.952010</td>\n",
       "    </tr>\n",
       "    <tr>\n",
       "      <th>75%</th>\n",
       "      <td>8.113333</td>\n",
       "      <td>46.109500</td>\n",
       "    </tr>\n",
       "    <tr>\n",
       "      <th>max</th>\n",
       "      <td>19.086667</td>\n",
       "      <td>99.433638</td>\n",
       "    </tr>\n",
       "  </tbody>\n",
       "</table>\n",
       "</div>"
      ],
      "text/plain": [
       "         WindSpeed        Power\n",
       "count  7265.000000  7265.000000\n",
       "mean      6.842653    30.722012\n",
       "std       2.090319    26.140030\n",
       "min       0.658333    -0.007123\n",
       "25%       5.273333     9.461201\n",
       "50%       6.668333    22.952010\n",
       "75%       8.113333    46.109500\n",
       "max      19.086667    99.433638"
      ]
     },
     "execution_count": 8,
     "metadata": {},
     "output_type": "execute_result"
    }
   ],
   "source": [
    "wind_data.describe()\n"
   ]
  },
  {
   "cell_type": "code",
   "execution_count": 9,
   "id": "3e65307f",
   "metadata": {},
   "outputs": [
    {
     "data": {
      "text/plain": [
       "Time         0\n",
       "WindSpeed    0\n",
       "Power        0\n",
       "dtype: int64"
      ]
     },
     "execution_count": 9,
     "metadata": {},
     "output_type": "execute_result"
    }
   ],
   "source": [
    "# Check for missing values\n",
    "wind_data.isnull().sum()"
   ]
  },
  {
   "cell_type": "markdown",
   "id": "c31a91e8",
   "metadata": {},
   "source": [
    "## Build LSTM model for 'Windspeed'"
   ]
  },
  {
   "cell_type": "code",
   "execution_count": null,
   "id": "bfe6b5d3",
   "metadata": {},
   "outputs": [],
   "source": []
  }
 ],
 "metadata": {
  "kernelspec": {
   "display_name": "base",
   "language": "python",
   "name": "python3"
  },
  "language_info": {
   "codemirror_mode": {
    "name": "ipython",
    "version": 3
   },
   "file_extension": ".py",
   "mimetype": "text/x-python",
   "name": "python",
   "nbconvert_exporter": "python",
   "pygments_lexer": "ipython3",
   "version": "3.12.4"
  }
 },
 "nbformat": 4,
 "nbformat_minor": 5
}
